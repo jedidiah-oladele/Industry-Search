{
 "cells": [
  {
   "cell_type": "markdown",
   "id": "3fb88bd8-a224-42ed-9cde-00ad7eb56f43",
   "metadata": {},
   "source": [
    "### Imports"
   ]
  },
  {
   "cell_type": "code",
   "execution_count": 231,
   "id": "ca08ef14-7116-45a9-aea6-9bc322b08038",
   "metadata": {},
   "outputs": [],
   "source": [
    "import requests\n",
    "from bs4 import BeautifulSoup\n",
    "import pandas as pd"
   ]
  },
  {
   "cell_type": "markdown",
   "id": "669d2074-2529-4ff1-b736-1d9b372ab493",
   "metadata": {},
   "source": [
    "### Data Scraping (Labels)"
   ]
  },
  {
   "cell_type": "code",
   "execution_count": 232,
   "id": "c9af0ae0-4d2d-484e-943f-8436a7405a58",
   "metadata": {},
   "outputs": [],
   "source": [
    "headers = {\"User-Agent\": \"Mozilla/5.0 (Windows NT 10.0; Win64; x64) AppleWebKit/537.36 (KHTML, like Gecko) Chrome/78.0.3904.108 Safari/537.36\", \"Accept-Encoding\":\"gzip, deflate\", \"Accept\":\"text/html,application/xhtml+xml,application/xml;q=0.9,*/*;q=0.8\", \"DNT\":\"1\",\"Connection\":\"close\", \"Upgrade-Insecure-Requests\":\"1\"}\n",
    "\n",
    "def get_soup(url):\n",
    "    res = requests.get(url, headers=headers)\n",
    "    soup = BeautifulSoup(res.content, 'html.parser')    \n",
    "    return soup"
   ]
  },
  {
   "cell_type": "code",
   "execution_count": 233,
   "id": "95926d41-aa94-41c7-95e5-cc0a442d388e",
   "metadata": {},
   "outputs": [],
   "source": [
    "url = 'https://www.bls.gov/iag/tgs/iag_index_naics.htm'\n",
    "soup = get_soup(url)"
   ]
  },
  {
   "cell_type": "markdown",
   "id": "2253a113-a42a-4fea-a43c-e9ba0922d5b6",
   "metadata": {},
   "source": [
    "It is unlikely that the format of this website changes, we can simply use the default css selectors"
   ]
  },
  {
   "cell_type": "code",
   "execution_count": 234,
   "id": "2215d446-2590-4244-99c2-2030f6fa82e3",
   "metadata": {},
   "outputs": [],
   "source": [
    "# Search for elements containing the sector's heading\n",
    "service_sector_names = soup.select('#bodytext > ul:nth-child(6) > li')\n",
    "goods_sectors_names = soup.select('#bodytext > ul:nth-child(9) > li')\n",
    "\n",
    "sector_names = service_sector_names + goods_sectors_names"
   ]
  },
  {
   "cell_type": "code",
   "execution_count": 235,
   "id": "e48bea44-9728-4580-b27e-22ae7c683584",
   "metadata": {},
   "outputs": [],
   "source": [
    "# Search for elements containing the sector's data\n",
    "service_sector_data = soup.select('#bodytext > ul:nth-child(6) > ul')\n",
    "goods_sector_data = soup.select('#bodytext > ul:nth-child(9) > ul')\n",
    "\n",
    "sector_data = service_sector_data + goods_sector_data"
   ]
  },
  {
   "cell_type": "code",
   "execution_count": 236,
   "id": "54b837f0-2bee-42be-bf9a-5bc8bb01fd6f",
   "metadata": {},
   "outputs": [],
   "source": [
    "assert len(sector_names) == len(sector_data)"
   ]
  },
  {
   "cell_type": "markdown",
   "id": "7b749e8f-c2c0-4078-8c0f-518f81fd1619",
   "metadata": {},
   "source": [
    "There's no special need to further segment the data into sub industries<br>\n",
    "We can simply use the flattened format"
   ]
  },
  {
   "cell_type": "code",
   "execution_count": 237,
   "id": "ae527756-fdc1-4097-94ed-81269f0242ef",
   "metadata": {},
   "outputs": [],
   "source": [
    "df = pd.DataFrame(columns=['Sector', 'Industry', 'Industry_URL', 'Industry_description'])"
   ]
  },
  {
   "cell_type": "code",
   "execution_count": 238,
   "id": "e81c51cb-7663-4792-b033-14562f47914b",
   "metadata": {},
   "outputs": [
    {
     "data": {
      "text/html": [
       "<div>\n",
       "<style scoped>\n",
       "    .dataframe tbody tr th:only-of-type {\n",
       "        vertical-align: middle;\n",
       "    }\n",
       "\n",
       "    .dataframe tbody tr th {\n",
       "        vertical-align: top;\n",
       "    }\n",
       "\n",
       "    .dataframe thead th {\n",
       "        text-align: right;\n",
       "    }\n",
       "</style>\n",
       "<table border=\"1\" class=\"dataframe\">\n",
       "  <thead>\n",
       "    <tr style=\"text-align: right;\">\n",
       "      <th></th>\n",
       "      <th>Sector</th>\n",
       "      <th>Industry</th>\n",
       "      <th>Industry_URL</th>\n",
       "      <th>Industry_description</th>\n",
       "    </tr>\n",
       "  </thead>\n",
       "  <tbody>\n",
       "    <tr>\n",
       "      <th>0</th>\n",
       "      <td>Natural Resources and Mining</td>\n",
       "      <td>Agriculture, Forestry, Fishing and Hunting (NA...</td>\n",
       "      <td>https://www.bls.gov/iag/tgs/iag11.htm</td>\n",
       "      <td></td>\n",
       "    </tr>\n",
       "    <tr>\n",
       "      <th>1</th>\n",
       "      <td>Natural Resources and Mining</td>\n",
       "      <td>Crop Production (NAICS 111)</td>\n",
       "      <td>https://www.bls.gov/iag/tgs/iag111.htm</td>\n",
       "      <td></td>\n",
       "    </tr>\n",
       "    <tr>\n",
       "      <th>2</th>\n",
       "      <td>Natural Resources and Mining</td>\n",
       "      <td>Animal Production (NAICS 112)</td>\n",
       "      <td>https://www.bls.gov/iag/tgs/iag112.htm</td>\n",
       "      <td></td>\n",
       "    </tr>\n",
       "    <tr>\n",
       "      <th>3</th>\n",
       "      <td>Natural Resources and Mining</td>\n",
       "      <td>Forestry and Logging (NAICS 113)</td>\n",
       "      <td>https://www.bls.gov/iag/tgs/iag113.htm</td>\n",
       "      <td></td>\n",
       "    </tr>\n",
       "    <tr>\n",
       "      <th>4</th>\n",
       "      <td>Natural Resources and Mining</td>\n",
       "      <td>Fishing, Hunting and Trapping (NAICS 114)</td>\n",
       "      <td>https://www.bls.gov/iag/tgs/iag114.htm</td>\n",
       "      <td></td>\n",
       "    </tr>\n",
       "    <tr>\n",
       "      <th>...</th>\n",
       "      <td>...</td>\n",
       "      <td>...</td>\n",
       "      <td>...</td>\n",
       "      <td>...</td>\n",
       "    </tr>\n",
       "    <tr>\n",
       "      <th>102</th>\n",
       "      <td>Other Services (except Public Administration)</td>\n",
       "      <td>Other Services (except Public Administration) ...</td>\n",
       "      <td>https://www.bls.gov/iag/tgs/iag81.htm</td>\n",
       "      <td></td>\n",
       "    </tr>\n",
       "    <tr>\n",
       "      <th>103</th>\n",
       "      <td>Other Services (except Public Administration)</td>\n",
       "      <td>Repair and Maintenance (NAICS 811)</td>\n",
       "      <td>https://www.bls.gov/iag/tgs/iag811.htm</td>\n",
       "      <td></td>\n",
       "    </tr>\n",
       "    <tr>\n",
       "      <th>104</th>\n",
       "      <td>Other Services (except Public Administration)</td>\n",
       "      <td>Personal and Laundry Services (NAICS 812)</td>\n",
       "      <td>https://www.bls.gov/iag/tgs/iag812.htm</td>\n",
       "      <td></td>\n",
       "    </tr>\n",
       "    <tr>\n",
       "      <th>105</th>\n",
       "      <td>Other Services (except Public Administration)</td>\n",
       "      <td>Religious, Grantmaking, Civic, Professional, a...</td>\n",
       "      <td>https://www.bls.gov/iag/tgs/iag813.htm</td>\n",
       "      <td></td>\n",
       "    </tr>\n",
       "    <tr>\n",
       "      <th>106</th>\n",
       "      <td>Other Services (except Public Administration)</td>\n",
       "      <td>Private Households (NAICS 814)</td>\n",
       "      <td>https://www.bls.gov/iag/tgs/iag814.htm</td>\n",
       "      <td></td>\n",
       "    </tr>\n",
       "  </tbody>\n",
       "</table>\n",
       "<p>107 rows × 4 columns</p>\n",
       "</div>"
      ],
      "text/plain": [
       "                                            Sector  \\\n",
       "0                     Natural Resources and Mining   \n",
       "1                     Natural Resources and Mining   \n",
       "2                     Natural Resources and Mining   \n",
       "3                     Natural Resources and Mining   \n",
       "4                     Natural Resources and Mining   \n",
       "..                                             ...   \n",
       "102  Other Services (except Public Administration)   \n",
       "103  Other Services (except Public Administration)   \n",
       "104  Other Services (except Public Administration)   \n",
       "105  Other Services (except Public Administration)   \n",
       "106  Other Services (except Public Administration)   \n",
       "\n",
       "                                              Industry  \\\n",
       "0    Agriculture, Forestry, Fishing and Hunting (NA...   \n",
       "1                          Crop Production (NAICS 111)   \n",
       "2                        Animal Production (NAICS 112)   \n",
       "3                     Forestry and Logging (NAICS 113)   \n",
       "4            Fishing, Hunting and Trapping (NAICS 114)   \n",
       "..                                                 ...   \n",
       "102  Other Services (except Public Administration) ...   \n",
       "103                 Repair and Maintenance (NAICS 811)   \n",
       "104          Personal and Laundry Services (NAICS 812)   \n",
       "105  Religious, Grantmaking, Civic, Professional, a...   \n",
       "106                     Private Households (NAICS 814)   \n",
       "\n",
       "                               Industry_URL Industry_description  \n",
       "0     https://www.bls.gov/iag/tgs/iag11.htm                       \n",
       "1    https://www.bls.gov/iag/tgs/iag111.htm                       \n",
       "2    https://www.bls.gov/iag/tgs/iag112.htm                       \n",
       "3    https://www.bls.gov/iag/tgs/iag113.htm                       \n",
       "4    https://www.bls.gov/iag/tgs/iag114.htm                       \n",
       "..                                      ...                  ...  \n",
       "102   https://www.bls.gov/iag/tgs/iag81.htm                       \n",
       "103  https://www.bls.gov/iag/tgs/iag811.htm                       \n",
       "104  https://www.bls.gov/iag/tgs/iag812.htm                       \n",
       "105  https://www.bls.gov/iag/tgs/iag813.htm                       \n",
       "106  https://www.bls.gov/iag/tgs/iag814.htm                       \n",
       "\n",
       "[107 rows x 4 columns]"
      ]
     },
     "execution_count": 238,
     "metadata": {},
     "output_type": "execute_result"
    }
   ],
   "source": [
    "i = 0\n",
    "for sector_name, sector_datum in zip(sector_names, sector_data):\n",
    "    sector_text = sector_name.get_text().strip()\n",
    "\n",
    "    \n",
    "    # Get all industries from a sector\n",
    "    industries = sector_datum.select('li')\n",
    "    \n",
    "    for industry in industries:\n",
    "        industry_text = industry.get_text().strip()\n",
    "        # Not all industry elements contain a hyperlink\n",
    "        try:\n",
    "            industry_url = 'https://www.bls.gov/iag/tgs/' + industry.select_one('a')['href']\n",
    "        except TypeError:\n",
    "            sector_url = 'None'\n",
    "        \n",
    "        # Store data to dataframe\n",
    "        df.loc[i] = (sector_text, industry_text, industry_url, '')\n",
    "        i += 1\n",
    "        \n",
    "\n",
    "df"
   ]
  },
  {
   "cell_type": "markdown",
   "id": "6e4001e2-eb3f-4104-880a-3af856985276",
   "metadata": {},
   "source": [
    "### Data Scraping (Descriptions)"
   ]
  },
  {
   "cell_type": "code",
   "execution_count": null,
   "id": "470d3d05-9577-413d-9258-7aab998d7fa3",
   "metadata": {},
   "outputs": [],
   "source": [
    "for _, row in df.iterrows():\n",
    "    print(f\"Scraping {row['Industry']}\")\n",
    "    \n",
    "    # Scrape description\n",
    "    soup = get_soup(row['Industry_URL'])\n",
    "    try:\n",
    "        description = soup.select_one('#bodytext > div.iag-def').get_text()\n",
    "    except AttributeError:\n",
    "        description ='None'\n",
    "    \n",
    "    # Clean the text\n",
    "    description = description.strip('\\n')\n",
    "    description = description.rstrip('\\nNorth American Industry Classification System')\n",
    "    \n",
    "    # Append data\n",
    "    row['Industry_description'] = description"
   ]
  },
  {
   "cell_type": "code",
   "execution_count": 243,
   "id": "f14a6512-484b-4162-8329-ff17c7283933",
   "metadata": {},
   "outputs": [],
   "source": [
    "df.to_csv('data.csv')"
   ]
  }
 ],
 "metadata": {
  "kernelspec": {
   "display_name": "Python 3",
   "language": "python",
   "name": "python3"
  },
  "language_info": {
   "codemirror_mode": {
    "name": "ipython",
    "version": 3
   },
   "file_extension": ".py",
   "mimetype": "text/x-python",
   "name": "python",
   "nbconvert_exporter": "python",
   "pygments_lexer": "ipython3",
   "version": "3.9.1"
  }
 },
 "nbformat": 4,
 "nbformat_minor": 5
}
